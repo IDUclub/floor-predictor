{
 "cells": [
  {
   "cell_type": "markdown",
   "id": "1f64078f",
   "metadata": {},
   "source": [
    "## Предсказание жилых зданий\n"
   ]
  },
  {
   "cell_type": "code",
   "execution_count": 1,
   "id": "6561a0db",
   "metadata": {},
   "outputs": [],
   "source": [
    "from osm_living_predictor.downloader import OSMDownloader\n",
    "from osm_living_predictor.building_processor import BuildingProcessor\n",
    "from osm_living_predictor.road_processor import RoadProcessor\n",
    "from osm_living_predictor.amenity_processor import AmenityProcessor\n",
    "from osm_living_predictor.feature_builder import FeatureBuilder\n",
    "from osm_living_predictor.model_handler import ModelHandler\n"
   ]
  },
  {
   "cell_type": "code",
   "execution_count": 2,
   "id": "82d674e7",
   "metadata": {},
   "outputs": [],
   "source": [
    "downloader = OSMDownloader(12030887)\n",
    "bounds = downloader.load_boundary()"
   ]
  },
  {
   "cell_type": "code",
   "execution_count": 3,
   "id": "be8917e1",
   "metadata": {},
   "outputs": [],
   "source": [
    "# Обработка\n",
    "buildings = BuildingProcessor(bounds)\n",
    "buildings.load_buildings()"
   ]
  },
  {
   "cell_type": "code",
   "execution_count": 4,
   "id": "1de5ad7e",
   "metadata": {},
   "outputs": [],
   "source": [
    "roads = RoadProcessor(bounds, buildings.buildings)\n",
    "roads.load_roads()"
   ]
  },
  {
   "cell_type": "code",
   "execution_count": 5,
   "id": "fe6a9a22",
   "metadata": {},
   "outputs": [],
   "source": [
    "amenities = AmenityProcessor(bounds, roads.backup_data)\n",
    "amenities.load_amenities()"
   ]
  },
  {
   "cell_type": "code",
   "execution_count": 6,
   "id": "04cd005a",
   "metadata": {},
   "outputs": [
    {
     "name": "stderr",
     "output_type": "stream",
     "text": [
      "d:\\programming\\github\\floor-predictor\\osm_living_predictor\\feature_builder.py:35: FutureWarning: A value is trying to be set on a copy of a DataFrame or Series through chained assignment using an inplace method.\n",
      "The behavior will change in pandas 3.0. This inplace method will never work because the intermediate object on which we are setting values always behaves as a copy.\n",
      "\n",
      "For example, when doing 'df[col].method(value, inplace=True)', try using 'df.method({col: value}, inplace=True)' or df[col] = df[col].method(value) instead, to perform the operation inplace on the original object.\n",
      "\n",
      "\n",
      "  df['landuse'].replace([\n"
     ]
    }
   ],
   "source": [
    "# Признаки\n",
    "builder = FeatureBuilder(buildings, roads, amenities)\n",
    "data = builder.build_features()"
   ]
  },
  {
   "cell_type": "code",
   "execution_count": null,
   "id": "c3250078",
   "metadata": {},
   "outputs": [
    {
     "name": "stdout",
     "output_type": "stream",
     "text": [
      "[ModelHandler] Внешняя модель установлена.\n",
      "[CV] Accuracy: mean=0.8293, std=0.0031\n",
      "[ModelHandler] Модель сохранена: model_dt.pkl\n"
     ]
    }
   ],
   "source": [
    "# Создание модели\n",
    "\n",
    "from sklearn.ensemble import RandomForestClassifier\n",
    "\n",
    "external_model = RandomForestClassifier(random_state=42)\n",
    "handler = ModelHandler(\"model/model_dt.pkl\", df=data, target_col=\"is_living\")\n",
    "handler.set_model(external_model)\n",
    "\n",
    "X_train, X_test, y_train, y_test = handler.train_test_split()\n",
    "handler.train_model(X_train, y_train)\n",
    "\n",
    "predicted = handler.predict(X_test, map_labels=True)\n",
    "\n",
    "\n"
   ]
  },
  {
   "cell_type": "code",
   "execution_count": 7,
   "id": "13ec95bf",
   "metadata": {},
   "outputs": [
    {
     "name": "stdout",
     "output_type": "stream",
     "text": [
      "[ModelHandler] Модель успешно загружена из файла.\n"
     ]
    }
   ],
   "source": [
    "# Загрузка модели\n",
    "\n",
    "handler = ModelHandler(\"model/model_dt.pkl\", df=data, target_col=\"is_living\")\n",
    "handler.load_model_from_file()\n",
    "\n",
    "predicted = handler.predict(data, map_labels=False)"
   ]
  },
  {
   "cell_type": "markdown",
   "id": "47eff4a0",
   "metadata": {},
   "source": [
    "## Предсказание этажности\n"
   ]
  },
  {
   "cell_type": "code",
   "execution_count": null,
   "id": "af7344b6",
   "metadata": {},
   "outputs": [],
   "source": [
    "import os\n",
    "import pandas as pd\n",
    "import matplotlib.pyplot as plt\n",
    "from osm_height_predictor.geo import (BuildingPreprocessor, \n",
    "                                GeometryFeatureGenerator, \n",
    "                                SpatialStatisticsComputer, \n",
    "                                SpatialNeighborhoodAnalyzer, \n",
    "                                StoreyModelTrainer)"
   ]
  },
  {
   "cell_type": "code",
   "execution_count": null,
   "id": "b8607441",
   "metadata": {},
   "outputs": [],
   "source": [
    "# Define the folder path\n",
    "folder_path = \"data/data_spb+towns/input_data_for_train\"\n",
    "\n",
    "pkl_files = [\n",
    "    os.path.join(folder_path, f)\n",
    "    for f in os.listdir(folder_path)\n",
    "    if f.endswith(\".pickle\")\n",
    "]\n",
    "\n",
    "df_list = [pd.read_pickle(f).to_crs(4326) for f in pkl_files]\n",
    "df_building = (\n",
    "    pd.concat(df_list, ignore_index=True)\n",
    "    .rename(columns={\"building:levels\": \"storey\"})\n",
    "    .dropna(subset=[\"storey\"])\n",
    ")\n",
    "\n",
    "df_building[\"storey\"] = df_building[\"storey\"].astype(int)\n",
    "\n",
    "df_building = df_building[df_building[\"is_living\"] == 1].reset_index(drop=True)\n",
    "df_building = df_building[(df_building[\"storey\"] > 2)]\n",
    "\n",
    "\n",
    "print(f\"Loaded {len(df_list)} files.\")\n",
    "print(df_building.info())"
   ]
  },
  {
   "cell_type": "code",
   "execution_count": null,
   "id": "b14b98cd",
   "metadata": {},
   "outputs": [],
   "source": [
    "# 1. Предобработка\n",
    "prep = BuildingPreprocessor(df_building)\n",
    "prep.filter_residential()\n",
    "df = prep.get()"
   ]
  },
  {
   "cell_type": "code",
   "execution_count": null,
   "id": "42484d74",
   "metadata": {},
   "outputs": [],
   "source": [
    "# 2. Геометрические признаки\n",
    "geo_gen = GeometryFeatureGenerator(df)\n",
    "df = geo_gen.compute_geometry_features()"
   ]
  },
  {
   "cell_type": "code",
   "execution_count": null,
   "id": "d49d2091",
   "metadata": {},
   "outputs": [],
   "source": [
    "# 3. Пространственный анализ\n",
    "stats = SpatialStatisticsComputer(df)\n",
    "df, global_moran, lisa = stats.compute_moran_and_lisa(col=\"storey\")"
   ]
  },
  {
   "cell_type": "code",
   "execution_count": null,
   "id": "fcab76cf",
   "metadata": {},
   "outputs": [],
   "source": [
    "# 4. Соседние признаки\n",
    "analyzer = SpatialNeighborhoodAnalyzer(df)\n",
    "df = analyzer.compute_neighborhood_metrics()"
   ]
  },
  {
   "cell_type": "code",
   "execution_count": null,
   "id": "baecdac5",
   "metadata": {},
   "outputs": [],
   "source": [
    "# 5. Обучение модели\n",
    "trainer = StoreyModelTrainer(df)\n",
    "X_train, X_test, y_train, y_test = trainer.prepare_data()\n",
    "param_dist = {\n",
    "                \"n_estimators\": [100],\n",
    "            }\n",
    "\n",
    "model = trainer.train_rf(X_train, y_train, param_dist=param_dist)\n",
    "y_pred = model.predict(X_test)"
   ]
  },
  {
   "cell_type": "markdown",
   "id": "c9c04b9f",
   "metadata": {},
   "source": [
    "## Plot"
   ]
  },
  {
   "cell_type": "code",
   "execution_count": null,
   "id": "5f9bcd12",
   "metadata": {},
   "outputs": [],
   "source": [
    "b_gem = df.to_crs(3857).centroid.copy()\n",
    "\n",
    "def plot_target_vs_prediction(\n",
    "    y_true, y_pred, bins=30, title=\"RF Target vs Prediction Histogram\"\n",
    "):\n",
    "    plt.figure(figsize=(10, 6))\n",
    "    plt.hist(y_true, bins=bins, alpha=0.6, label=\"True (Target)\", density=True)\n",
    "    plt.hist(y_pred, bins=bins, alpha=0.6, label=\"Predicted\", density=True)\n",
    "    plt.xlabel(\"Value\")\n",
    "    plt.ylabel(\"Density\")\n",
    "    plt.title(title)\n",
    "    plt.legend()\n",
    "    plt.grid(alpha=0.3)\n",
    "    plt.tight_layout()\n",
    "    plt.show()\n",
    "\n",
    "\n",
    "plot_target_vs_prediction(y_test, y_pred)"
   ]
  },
  {
   "cell_type": "code",
   "execution_count": null,
   "id": "de04e0bc",
   "metadata": {},
   "outputs": [],
   "source": [
    "import matplotlib.pyplot as plt\n",
    "\n",
    "# Count occurrences of each (true, predicted) pair\n",
    "counts = df_building.groupby([\"storey\", \"pred_storey\"]).size().reset_index(name=\"count\")\n",
    "import matplotlib.pyplot as plt\n",
    "import numpy as np\n",
    "\n",
    "# Normalize counts for bubble size (square root scaling helps perception)\n",
    "counts[\"size\"] = counts[\"count\"] / 2  # tweak factor 30 as needed\n",
    "\n",
    "plt.figure(figsize=(10, 7))\n",
    "sc = plt.scatter(\n",
    "    counts[\"storey\"],\n",
    "    counts[\"pred_storey\"],\n",
    "    s=counts[\"size\"],\n",
    "    alpha=0.3,\n",
    "    c=np.log(counts[\"count\"]),\n",
    "    cmap=\"Blues\",\n",
    "    edgecolor=\"black\",\n",
    "    linewidth=0.8,\n",
    ")\n",
    "\n",
    "plt.plot(\n",
    "    [df_building[\"storey\"].min(), df_building[\"storey\"].max()],\n",
    "    [df_building[\"storey\"].min(), df_building[\"storey\"].max()],\n",
    "    linestyle=\"--\",\n",
    "    color=\"red\",\n",
    "    label=\"Ideal (y = x)\",\n",
    ")\n",
    "\n",
    "plt.xlabel(\"True number of storeys\")\n",
    "plt.ylabel(\"Predicted number of storeys\")\n",
    "plt.title(\"Predicted vs. True Storeys\")\n",
    "cbar = plt.colorbar(sc)\n",
    "cbar.set_label(\"Log frequency\")\n",
    "plt.legend()\n",
    "plt.grid(True)\n",
    "plt.tight_layout()\n",
    "plt.show()\n"
   ]
  },
  {
   "cell_type": "code",
   "execution_count": null,
   "id": "1b54b044",
   "metadata": {},
   "outputs": [],
   "source": [
    "from libpysal.weights import KNN\n",
    "import geopandas as gpd\n",
    "\n",
    "def analyze_residuals(gdf, true_col=\"storey\", pred_col=\"pred_storey\", k=10):\n",
    "    \"\"\"\n",
    "    Analyzes spatial autocorrelation in model residuals\n",
    "    \"\"\"\n",
    "    from esda.moran import Moran\n",
    "    from libpysal.weights import KNN\n",
    "    import matplotlib.pyplot as plt\n",
    "    from splot.esda import plot_moran\n",
    "\n",
    "    # Calculate residuals\n",
    "    gdf[\"residuals\"] = gdf[true_col] - gdf[pred_col]\n",
    "\n",
    "    # Create spatial weights\n",
    "    w = KNN.from_dataframe(gdf, k=k)\n",
    "    w.transform = \"r\"\n",
    "\n",
    "    # Calculate Moran's I for residuals\n",
    "    moran = Moran(gdf[\"residuals\"], w)\n",
    "\n",
    "    print(f\"\\nResidual Analysis:\")\n",
    "    print(f\"Moran's I: {moran.I:.4f}\")\n",
    "    print(f\"p-value: {moran.p_sim:.4f}\")\n",
    "\n",
    "    # Plot Moran scatter plot\n",
    "    fig, ax = plt.subplots(figsize=(12, 3))\n",
    "    plot_moran(moran, zstandard=True)\n",
    "    plt.title(\"Moran's I Scatter Plot for Model Residuals\")\n",
    "    plt.tight_layout()\n",
    "    plt.show()\n",
    "\n",
    "    return moran\n",
    "\n",
    "\n",
    "# After model training, analyze residuals\n",
    "moran_residuals = analyze_residuals(\n",
    "    gpd.GeoDataFrame(df_building.join(b_gem.rename(\"geometry\"), how=\"inner\")),\n",
    "    true_col=\"storey\",\n",
    "    pred_col=\"pred_storey\",\n",
    "    k=10,\n",
    ")\n"
   ]
  },
  {
   "cell_type": "code",
   "execution_count": null,
   "id": "0bcbbdb5",
   "metadata": {},
   "outputs": [],
   "source": [
    "def plot_error_map(df, true_col=\"storey\", pred_col=\"pred_storey\"):\n",
    "    \"\"\"\n",
    "    Plots a map showing prediction errors for building heights.\n",
    "    Colors indicate if predictions are within ±20% of true values.\n",
    "    'Within ±20%' predictions are shown with a glass-like transparency effect.\n",
    "    \"\"\"\n",
    "    # Convert to GeoDataFrame if not already\n",
    "    gdf = gpd.GeoDataFrame(df) if not isinstance(df, gpd.GeoDataFrame) else df\n",
    "\n",
    "    # Calculate relative errors\n",
    "    gdf[\"rel_error\"] = round((gdf[pred_col] - gdf[true_col]) / gdf[true_col], 2)\n",
    "    gdf[\"error\"] = round(gdf[pred_col] - gdf[true_col], 2)\n",
    "\n",
    "    # Create error categories\n",
    "    conditions = [\n",
    "        (gdf[\"rel_error\"] < -0.15) & (np.abs(gdf[\"error\"]) > 2),\n",
    "        (gdf[\"rel_error\"] > 0.15) & (np.abs(gdf[\"error\"]) > 2),\n",
    "        (gdf[\"rel_error\"].between(-0.15, 0.15)),\n",
    "    ]\n",
    "    choices = [\"Underprediction >15%\", \"Overprediction >15%\", \"Within ±15%\"]\n",
    "    gdf[\"error_category\"] = np.select(conditions, choices, default=\"Within ±15%\")\n",
    "\n",
    "    # Create color mapping with transparency\n",
    "    color_dict = {\n",
    "        \"Underprediction >15%\": \"red\",\n",
    "        \"Overprediction >15%\": \"blue\",\n",
    "        \"Within ±15%\": \"#7fcdbb\",  # Light blue-green for glass effect\n",
    "    }\n",
    "\n",
    "    alpha_dict = {\n",
    "        \"Underprediction >15%\": 0.7,\n",
    "        \"Overprediction >15%\": 0.7,\n",
    "        \"Within ±15%\": 0.3,  # More transparent for glass effect\n",
    "    }\n",
    "\n",
    "    # Create the plot\n",
    "    fig, ax = plt.subplots(1, 1, figsize=(12, 8))\n",
    "\n",
    "    # Plot background layer first (all buildings with very light color)\n",
    "    gdf.plot(color=\"lightgray\", alpha=0.1, ax=ax)\n",
    "\n",
    "    # Plot with categorical colors - plot good predictions first\n",
    "    categories = [\"Within ±15%\", \"Underprediction >15%\", \"Overprediction >15%\"]\n",
    "    for category in categories:\n",
    "        mask = gdf[\"error_category\"] == category\n",
    "        if mask.any():\n",
    "            gdf[mask].plot(\n",
    "                color=color_dict[category],\n",
    "                ax=ax,\n",
    "                label=category,\n",
    "                alpha=alpha_dict[category],\n",
    "                edgecolor=\"white\" if category == \"Within ±15%\" else \"none\",\n",
    "                linewidth=0.5 if category == \"Within ±15%\" else 0,\n",
    "                markersize=2,\n",
    "            )\n",
    "\n",
    "    # Customize the plot\n",
    "    ax.set_title(\"Building Height Prediction Errors\", pad=20)\n",
    "    ax.axis(\"off\")\n",
    "\n",
    "    # Customize legend\n",
    "    ax.legend(\n",
    "        title=\"Prediction Accuracy\", frameon=True, framealpha=0.9, edgecolor=\"white\"\n",
    "    )\n",
    "\n",
    "    plt.tight_layout()\n",
    "    plt.show()\n",
    "\n",
    "    return gdf\n",
    "\n",
    "\n",
    "# Use the function\n",
    "gdf = plot_error_map(df_building.join(b_gem.rename(\"geometry\"), how=\"inner\"))\n"
   ]
  },
  {
   "cell_type": "code",
   "execution_count": null,
   "id": "d697aec0",
   "metadata": {},
   "outputs": [],
   "source": [
    "gdf[\"abs_error\"] = np.abs(gdf[\"storey\"] - gdf[\"pred_storey\"])\n",
    "gdf[\"abs_error\"] = gdf[\"abs_error\"].round(3)\n",
    "\n",
    "gdf[\"abs_rel_error\"] = gdf[\"abs_error\"] / (gdf[\"storey\"] + 1e-6)\n",
    "gdf[\"abs_rel_error\"] = gdf[\"abs_rel_error\"].round(3)\n",
    "\n",
    "gdf.loc[\n",
    "    (gdf[\"abs_error\"] < 5) & (gdf[\"storey\"] > 15),\n",
    "    list(gdf.columns[-6:])\n",
    "    + [\n",
    "        \"storey\",\n",
    "        \"pred_storey\",\n",
    "        \"cluster_High-High\",\n",
    "        \"cluster_High-Low\",\n",
    "        \"cluster_Low-High\",\n",
    "        \"cluster_Low-Low\",\n",
    "        \"storey_lag\",\n",
    "    ],\n",
    "].explore(\n",
    "    \"abs_rel_error\",\n",
    "    tiles=\"CartoDB positron\",\n",
    "    style_kwds={\"fillOpacity\": 0.5},\n",
    "    colormap=\"RdYlGr\",\n",
    "    legend=True,\n",
    "    name=\"Prediction Errors\",\n",
    ")\n"
   ]
  }
 ],
 "metadata": {
  "kernelspec": {
   "display_name": ".venv",
   "language": "python",
   "name": "python3"
  },
  "language_info": {
   "codemirror_mode": {
    "name": "ipython",
    "version": 3
   },
   "file_extension": ".py",
   "mimetype": "text/x-python",
   "name": "python",
   "nbconvert_exporter": "python",
   "pygments_lexer": "ipython3",
   "version": "3.10.11"
  }
 },
 "nbformat": 4,
 "nbformat_minor": 5
}
