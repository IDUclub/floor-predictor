{
 "cells": [
  {
   "cell_type": "markdown",
   "id": "1f64078f",
   "metadata": {},
   "source": [
    "## Предсказание жилых зданий\n"
   ]
  },
  {
   "cell_type": "code",
   "execution_count": 2,
   "id": "6561a0db",
   "metadata": {},
   "outputs": [],
   "source": [
    "import pandas as pd\n",
    "import geopandas as gpd\n",
    "\n",
    "from floor_predictior.osm_living_predictor import (\n",
    "    BoundaryFetcher, \n",
    "    BuildingProcessor,\n",
    "    RoadProcessor,\n",
    "    AmenityProcessor,\n",
    "    FeatureBuilder,\n",
    "    ModelHandler\n",
    "    )\n",
    "\n",
    "from floor_predictior.utils.IsLivingChecker import IsLivingAnnotator"
   ]
  },
  {
   "cell_type": "code",
   "execution_count": null,
   "id": "6c0ff8a1",
   "metadata": {},
   "outputs": [],
   "source": [
    "import os\n",
    "import pickle\n",
    "import pandas as pd\n",
    "import geopandas as gpd\n",
    "from tqdm import tqdm  # для прогресс-бара (необязательно, но удобно)\n",
    "\n",
    "# Папка для сохранения промежуточных файлов\n",
    "PICKLE_DIR = \"data/district_parts\"\n",
    "os.makedirs(PICKLE_DIR, exist_ok=True)\n",
    "\n",
    "districts = [1114193, 1114252, 1114354, 1114806, 1114809, 337424, 1114895, 363103, 1115082, 1115366, 338636, 368287, \n",
    "             1114905, 367375, 1115367, 338635, 369514, 1114902, 1482451, 1285772, 1281563, 407876, 3536492, 930950, \n",
    "             1761428, 1312868, 7226665, 389790, 1701435, 1926754, 253820]\n",
    "\n",
    "parts = []\n",
    "\n",
    "for district in tqdm(districts, desc=\"Processing districts\"):\n",
    "    try:\n",
    "        # Имя файла для сохранения\n",
    "        filename = os.path.join(PICKLE_DIR, f\"district_{district}.pkl\")\n",
    "        \n",
    "        # Попробуем загрузить уже обработанный район, если он есть\n",
    "        if os.path.exists(filename):\n",
    "            try:\n",
    "                with open(filename, 'rb') as f:\n",
    "                    gdf_with_labels = pickle.load(f)\n",
    "                print(f\"Loaded cached data for district {district}\")\n",
    "                parts.append(gdf_with_labels)\n",
    "                continue  # переходим к следующему, если успешно загружен\n",
    "            except Exception as e:\n",
    "                print(f\"Error loading cached data for district {district}: {e}. Recomputing...\")\n",
    "\n",
    "        # Если нет кэша или ошибка при загрузке — пересчитываем\n",
    "        downloader = BoundaryFetcher()\n",
    "        bounds = downloader.by_osmid(district, 'R')\n",
    "\n",
    "        tags_list = [\n",
    "            'religious', 'recreation_ground',\n",
    "            'residential', 'commercial',\n",
    "            'cemetery', 'construction',\n",
    "            'farmland', 'farmyard',\n",
    "            'forest', 'military'\n",
    "        ]\n",
    "\n",
    "        buildings = BuildingProcessor(bounds)\n",
    "        buildings_gdf = buildings.load_buildings()\n",
    "        lu = buildings.load_landuse()\n",
    "        merged_lu = buildings.merge_landuse(tags_list=tags_list)\n",
    "        rp = RoadProcessor(bounds=bounds, buildings=buildings_gdf, radius_list=[30, 60, 90], local_crs=buildings.local_crs)\n",
    "        roads = rp.load_roads()\n",
    "        rp._buffer_roads()\n",
    "        rp._join_buildings_to_buffers()\n",
    "        features_df = rp.build_feature_table()\n",
    "\n",
    "        ap = AmenityProcessor(bounds=bounds, base_gdf=features_df, radii=[30, 60, 90], local_crs=buildings.local_crs)\n",
    "        feat_with_amenities = ap.run()\n",
    "\n",
    "        builder = FeatureBuilder(feat_with_amenities)\n",
    "        data = builder.build_features()\n",
    "\n",
    "        annotator = IsLivingAnnotator(data, local_crs=buildings.local_crs, match_strategy=\"iou\", iou_threshold=0.3)\n",
    "        gdf_with_labels = annotator.annotate()\n",
    "        gdf_with_labels.to_crs(4326, inplace=True)\n",
    "\n",
    "        # Сохраняем в pickle\n",
    "        with open(filename, 'wb') as f:\n",
    "            pickle.dump(gdf_with_labels, f)\n",
    "        print(f\"Saved district {district} to {filename}\")\n",
    "\n",
    "        parts.append(gdf_with_labels)\n",
    "\n",
    "    except Exception as e:\n",
    "        print(f\"Failed to process district {district}: {e}\")\n",
    "        continue  # пропускаем, если ошибка\n",
    "\n",
    "# Объединение всех частей\n",
    "if parts:\n",
    "    full_gdf = pd.concat(parts, ignore_index=True)\n",
    "    full_gdf = gpd.GeoDataFrame(full_gdf, geometry=\"geometry\", crs=parts[0].crs)\n",
    "else:\n",
    "    print(\"No districts were successfully processed.\")\n",
    "    full_gdf = gpd.GeoDataFrame()"
   ]
  },
  {
   "cell_type": "code",
   "execution_count": null,
   "id": "4e1a55d9",
   "metadata": {},
   "outputs": [],
   "source": [
    "full_gdf = pd.read_pickle(\"data/processed_data_spb.pkl\")"
   ]
  },
  {
   "cell_type": "code",
   "execution_count": null,
   "id": "ac417563",
   "metadata": {},
   "outputs": [],
   "source": [
    "data = full_gdf.copy()"
   ]
  },
  {
   "cell_type": "code",
   "execution_count": null,
   "id": "34749a26",
   "metadata": {},
   "outputs": [],
   "source": [
    "data = data.select_dtypes(include=['number']).drop(columns=['id'])\n",
    "data.dropna(inplace=True)"
   ]
  },
  {
   "cell_type": "code",
   "execution_count": null,
   "id": "c3250078",
   "metadata": {},
   "outputs": [],
   "source": [
    "# Создание модели\n",
    "from sklearn.ensemble import RandomForestClassifier\n",
    "\n",
    "external_model = RandomForestClassifier(random_state=42)\n",
    "handler = ModelHandler(\"floor_predictior/model/model_dt.pkl\", df=data, target_col=\"is_living\")\n",
    "handler.set_model(external_model)\n",
    "\n",
    "X_train, X_test, y_train, y_test = handler.train_test_split()\n",
    "handler.train_model(X_train, y_train, save=True)\n",
    "\n",
    "predicted = handler.predict(X_test, map_labels=True)\n"
   ]
  },
  {
   "cell_type": "code",
   "execution_count": null,
   "id": "35585bd9",
   "metadata": {},
   "outputs": [],
   "source": [
    "predict_data = full_gdf[full_gdf['is_living'].isna()].copy()\n",
    "predict_data = predict_data.select_dtypes(include=['number']).drop(columns=['id'])"
   ]
  },
  {
   "cell_type": "code",
   "execution_count": null,
   "id": "13ec95bf",
   "metadata": {},
   "outputs": [],
   "source": [
    "# Загрузка модели\n",
    "\n",
    "handler = ModelHandler(\"model/model_dt.pkl\", df=predict_data, target_col=\"is_living\")\n",
    "handler.load_model_from_file()\n",
    "\n",
    "predicted = handler.predict(predict_data, map_labels=False)"
   ]
  },
  {
   "cell_type": "code",
   "execution_count": null,
   "id": "43715109",
   "metadata": {},
   "outputs": [],
   "source": [
    "predict_data['is_living'] = predicted['predicted']\n",
    "# predict_data.to_pickle('processeed_data.pkl')"
   ]
  },
  {
   "cell_type": "markdown",
   "id": "47eff4a0",
   "metadata": {},
   "source": [
    "## Предсказание этажности\n"
   ]
  },
  {
   "cell_type": "code",
   "execution_count": 2,
   "id": "af7344b6",
   "metadata": {},
   "outputs": [],
   "source": [
    "import os\n",
    "import pandas as pd\n",
    "import matplotlib.pyplot as plt\n",
    "from floor_predictior.osm_height_predictor.geo import (BuildingPreprocessor, \n",
    "                                GeometryFeatureGenerator, \n",
    "                                SpatialStatisticsComputer, \n",
    "                                SpatialNeighborhoodAnalyzer, \n",
    "                                StoreyModelTrainer)"
   ]
  },
  {
   "cell_type": "code",
   "execution_count": 3,
   "id": "b8607441",
   "metadata": {},
   "outputs": [],
   "source": [
    "# Define the folder path\n",
    "folder_path = \"data/\"\n",
    "pkl_files = [\n",
    "    os.path.join(folder_path, f)\n",
    "    for f in os.listdir(folder_path)\n",
    "    if f.endswith(\".pkl\")\n",
    "]\n",
    "\n",
    "df_list = [pd.read_pickle(f).to_crs(4326) for f in pkl_files]\n",
    "df_building = (\n",
    "    pd.concat(df_list, ignore_index=True)\n",
    "    .rename(columns={\"building:levels\": \"storey\"})\n",
    "    .dropna(subset=[\"storey\"])\n",
    "    .select_dtypes(exclude=['object', 'string'])\n",
    "    .drop(columns=['id'])\n",
    ")\n",
    "\n",
    "df_building[\"storey\"] = df_building[\"storey\"].astype(int)\n",
    "\n",
    "df_building = df_building[df_building[\"is_living\"] == 1].reset_index(drop=True)\n",
    "df_building = df_building[(df_building[\"storey\"] > 2)]"
   ]
  },
  {
   "cell_type": "code",
   "execution_count": 4,
   "id": "b14b98cd",
   "metadata": {},
   "outputs": [],
   "source": [
    "# 1. Предобработка\n",
    "prep = BuildingPreprocessor(df_building)\n",
    "prep.filter_residential()\n",
    "df = prep.get()"
   ]
  },
  {
   "cell_type": "code",
   "execution_count": 5,
   "id": "42484d74",
   "metadata": {},
   "outputs": [],
   "source": [
    "# 2. Геометрические признаки\n",
    "geo_gen = GeometryFeatureGenerator(df)\n",
    "df = geo_gen.compute_geometry_features()"
   ]
  },
  {
   "cell_type": "code",
   "execution_count": 6,
   "id": "d49d2091",
   "metadata": {},
   "outputs": [],
   "source": [
    "# 3. Пространственный анализ\n",
    "stats = SpatialStatisticsComputer(df)\n",
    "df, global_moran, lisa = stats.compute_moran_and_lisa(col=\"storey\")"
   ]
  },
  {
   "cell_type": "code",
   "execution_count": null,
   "id": "fcab76cf",
   "metadata": {},
   "outputs": [],
   "source": [
    "# 4. Соседние признаки\n",
    "analyzer = SpatialNeighborhoodAnalyzer(df)\n",
    "df, artifacts = analyzer.compute_neighborhood_metrics(plot=False)"
   ]
  },
  {
   "cell_type": "code",
   "execution_count": null,
   "id": "baecdac5",
   "metadata": {},
   "outputs": [],
   "source": [
    "# 5. Обучение модели\n",
    "trainer = StoreyModelTrainer(df)\n",
    "X_train, X_test, y_train, y_test = trainer.prepare_data()\n",
    "param_dist = {\"n_estimators\": [100],\n",
    "              \"min_samples_split\": [4],\n",
    "              \"min_samples_leaf\": [2],\n",
    "}\n",
    "model = trainer.train_rf(X_train, y_train, param_dist=param_dist)\n",
    "trainer.save_model('model/StoreyModelTrainer.joblib')"
   ]
  },
  {
   "cell_type": "code",
   "execution_count": 24,
   "id": "d65f9a98",
   "metadata": {},
   "outputs": [],
   "source": [
    "trainer = StoreyModelTrainer(df).load_model(path='model/StoreyModelTrainer.joblib')\n"
   ]
  },
  {
   "cell_type": "code",
   "execution_count": 21,
   "id": "341335a4",
   "metadata": {},
   "outputs": [],
   "source": [
    "y_pred = trainer.predict(X_test)"
   ]
  },
  {
   "cell_type": "markdown",
   "id": "c9c04b9f",
   "metadata": {},
   "source": [
    "## Plot"
   ]
  },
  {
   "cell_type": "code",
   "execution_count": 22,
   "id": "5f9bcd12",
   "metadata": {},
   "outputs": [
    {
     "data": {
      "image/png": "[encoded data removed]",
      "text/plain": [
       "<Figure size 1000x600 with 1 Axes>"
      ]
     },
     "metadata": {},
     "output_type": "display_data"
    }
   ],
   "source": [
    "import numpy as np\n",
    "\n",
    "b_gem = df.to_crs(3857).centroid.copy()\n",
    "\n",
    "def plot_target_vs_prediction(\n",
    "    y_true, y_pred, bins=30, title=\"RF Target vs Prediction Histogram\"\n",
    "):\n",
    "    plt.figure(figsize=(10, 6))\n",
    "    plt.hist(y_true, bins=bins, alpha=0.6, label=\"True (Target)\", density=True)\n",
    "    plt.hist(y_pred, bins=bins, alpha=0.6, label=\"Predicted\", density=True)\n",
    "    plt.xlabel(\"Value\")\n",
    "    plt.ylabel(\"Density\")\n",
    "    plt.title(title)\n",
    "    plt.legend()\n",
    "    plt.grid(alpha=0.3)\n",
    "    plt.tight_layout()\n",
    "    plt.show()\n",
    "\n",
    "\n",
    "plot_target_vs_prediction(y_test, np.round(y_pred))"
   ]
  }
 ],
 "metadata": {
  "kernelspec": {
   "display_name": ".venv",
   "language": "python",
   "name": "python3"
  },
  "language_info": {
   "codemirror_mode": {
    "name": "ipython",
    "version": 3
   },
   "file_extension": ".py",
   "mimetype": "text/x-python",
   "name": "python",
   "nbconvert_exporter": "python",
   "pygments_lexer": "ipython3",
   "version": "3.10.11"
  }
 },
 "nbformat": 4,
 "nbformat_minor": 5
}
